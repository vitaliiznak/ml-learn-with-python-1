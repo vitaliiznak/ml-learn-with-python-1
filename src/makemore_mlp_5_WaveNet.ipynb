{
 "cells": [
  {
   "cell_type": "code",
   "execution_count": 14,
   "metadata": {},
   "outputs": [],
   "source": [
    "#read all words\n",
    "words = open('../data/names.txt', 'r').read().splitlines()\n",
    "words[:8]\n",
    "\n",
    "# build the vocabulary of characters and mappings to/from integers\n",
    "chars = sorted(list(set(''.join(words))))\n",
    "stoi = {s:i+1 for i,s in enumerate(chars)}\n",
    "stoi['.'] = 0\n",
    "itos = {i:s for s,i in stoi.items()}\n",
    "vocab_size = len(itos)\n",
    "\n",
    "\n",
    "\n",
    "\n"
   ]
  },
  {
   "cell_type": "code",
   "execution_count": 15,
   "metadata": {},
   "outputs": [
    {
     "name": "stdout",
     "output_type": "stream",
     "text": [
      "torch.Size([182778, 8]) torch.Size([182778])\n",
      "torch.Size([22633, 8]) torch.Size([22633])\n",
      "torch.Size([22735, 8]) torch.Size([22735])\n"
     ]
    }
   ],
   "source": [
    "import torch\n",
    "import torch.nn.functional as F\n",
    "import matplotlib.pyplot as plt # for making figures\n",
    "%matplotlib inline\n",
    "\n",
    "# build the dataset\n",
    "block_size = 8 # context length: how many characters do we take to predict the next one?\n",
    "\n",
    "def build_dataset(words):  \n",
    "  X, Y = [], []\n",
    "  \n",
    "  for w in words:\n",
    "    context = [0] * block_size\n",
    "    for ch in w + '.':\n",
    "      ix = stoi[ch]\n",
    "      X.append(context)\n",
    "      Y.append(ix)\n",
    "      context = context[1:] + [ix] # crop and append\n",
    "\n",
    "  X = torch.tensor(X)\n",
    "  Y = torch.tensor(Y)\n",
    "  print(X.shape, Y.shape)\n",
    "  return X, Y\n",
    "\n",
    "n1 = int(0.8*len(words))\n",
    "n2 = int(0.9*len(words))\n",
    "Xtr,  Ytr  = build_dataset(words[:n1])     # 80%\n",
    "Xdev, Ydev = build_dataset(words[n1:n2])   # 10%\n",
    "Xte,  Yte  = build_dataset(words[n2:])     # 10%"
   ]
  },
  {
   "cell_type": "code",
   "execution_count": 16,
   "metadata": {},
   "outputs": [],
   "source": [
    "# for x,y in zip(Xtr[:20], Ytr[:20]):\n",
    "#   print(''.join([itos[c] for(c) in x]), itos[y])"
   ]
  },
  {
   "cell_type": "markdown",
   "metadata": {},
   "source": []
  },
  {
   "cell_type": "code",
   "execution_count": 17,
   "metadata": {},
   "outputs": [],
   "source": [
    "import torch\n",
    "import torch.nn as nn\n",
    "from torch.nn import functional as F\n",
    "import matplotlib.pyplot as plt\n",
    "%matplotlib inline\n",
    "\n",
    "g = torch.Generator().manual_seed(2147483647)# for reproducibility\n",
    "\n",
    "class Linear: \n",
    "\n",
    "    def __init__(self, fan_in: int, fan_out: int, bias:bool=True):\n",
    "        self.weight = torch.randn((fan_in, fan_out)) #/ fan_in**0.5\n",
    "        self.bias = torch.zeros(fan_out) if bias else None\n",
    "\n",
    "    def __call__(self, x):\n",
    "        self.out = x @ self.weight\n",
    "        if self.bias is not None:\n",
    "            self.out += self.bias\n",
    "        return self.out\n",
    "\n",
    "    def parameters(self):\n",
    "        return [self.weight] + ([] if self.bias is None else [self.bias])\n",
    "\n",
    "class BatchNorm1d:\n",
    "\n",
    "    def __init__(self, dim: int, eps:float=1e-5, momentum:float=0.1):\n",
    "        self.eps = eps\n",
    "        self.momentum = momentum\n",
    "        self.training = True\n",
    "        # parameters (trained with backprop)\n",
    "        self.gamma = torch.ones(dim)\n",
    "        self.beta = torch.zeros(dim)\n",
    "        # buffers (trained with a running 'momentum update')\n",
    "        self.running_mean = torch.zeros(dim)\n",
    "        self.running_var = torch.ones(dim)\n",
    "\n",
    "    def __call__(self, x):\n",
    "        # calculate the forward pass\n",
    "        if self.training:\n",
    "            if x.ndim == 2:\n",
    "                dim = (0,)\n",
    "            elif x.ndim == 3:\n",
    "                dim = (0, 1)\n",
    "            else:\n",
    "                raise ValueError(\"only 2D or 3D tensors are supported\")\n",
    "            xmean = x.mean(dim, keepdim=True) # batch mean\n",
    "            xvar = x.var(dim, keepdim=True) # batch variance\n",
    "        else:\n",
    "            xmean = self.running_mean\n",
    "            xvar = self.running_var\n",
    "        xhat = (x - xmean) / torch.sqrt(xvar + self.eps) # normalize to unit variance\n",
    "        self.out = self.gamma * xhat + self.beta\n",
    "        # update the buffers\n",
    "        if self.training:\n",
    "            with torch.no_grad():\n",
    "                self.running_mean = (1 - self.momentum) * self.running_mean + self.momentum * xmean\n",
    "                self.running_var = (1 - self.momentum) * self.running_var + self.momentum * xvar\n",
    "        return self.out\n",
    "\n",
    "    def parameters(self):\n",
    "        return [self.gamma, self.beta]\n",
    "\n",
    "\n",
    "class Tanh:\n",
    "    def __call__(self, x):\n",
    "        self.out = torch.tanh(x)\n",
    "        return self.out\n",
    "    def parameters(self):\n",
    "        return []\n",
    "      \n",
    "      \n",
    "class Embedding:\n",
    "  \n",
    "  def __init__(self, num_embeddings, embedding_dim):\n",
    "    self.weight = torch.randn((num_embeddings, embedding_dim), generator=g)\n",
    "    \n",
    "  def __call__(self, ix):\n",
    "    self.out = self.weight[ix]\n",
    "    return self.out\n",
    "  \n",
    "  def parameters(self):\n",
    "    return [self.weight]\n",
    "  \n",
    "class FlattenConsecutive:\n",
    "  \n",
    "  def __init__(self, n):\n",
    "    self.n = n\n",
    "  \n",
    "  def __call__(self, x):\n",
    "    B, T, C = x.shape\n",
    "    \n",
    "    x = x.view(B, T//self.n, C * self.n)\n",
    "    if x.shape[1] == 1:\n",
    "      x = x.squeeze(1)\n",
    "    self.out = x\n",
    "    \n",
    "    return self.out\n",
    "  \n",
    "  def parameters(self):\n",
    "    return []\n",
    "  \n",
    "  \n",
    "class Sequential:\n",
    "  \n",
    "  def __init__(self, *layers):\n",
    "    self.layers = layers\n",
    "    \n",
    "  def __call__(self, x):\n",
    "    for layer in self.layers:\n",
    "      x = layer(x)\n",
    "    return x\n",
    "  \n",
    "  def parameters(self):\n",
    "    params = []\n",
    "    \n",
    "    for layer in self.layers:\n",
    "      params += layer.parameters()\n",
    "    return params"
   ]
  },
  {
   "cell_type": "markdown",
   "metadata": {},
   "source": []
  },
  {
   "cell_type": "code",
   "execution_count": 18,
   "metadata": {},
   "outputs": [
    {
     "name": "stdout",
     "output_type": "stream",
     "text": [
      "torch.Size([182778, 8]) torch.Size([182778])\n",
      "torch.Size([22633, 8]) torch.Size([22633])\n",
      "torch.Size([22735, 8]) torch.Size([22735])\n",
      "22397\n"
     ]
    }
   ],
   "source": [
    "\n",
    "n_embd = 10 # the dimensionality of the character embedding vectors\n",
    "n_hidden = 68 # the number of neurons in the hidden layer of the MLP\n",
    "\n",
    "\n",
    "g = torch.Generator().manual_seed(2147483647)# for reproducibility\n",
    "C = torch.randn((vocab_size, n_embd), generator=g)\n",
    "model = Sequential(\n",
    "    Embedding(vocab_size, n_embd), \n",
    "  \n",
    "    FlattenConsecutive(2), Linear(n_embd * 2, n_hidden, bias=False), BatchNorm1d(n_hidden), Tanh(),\n",
    "    \n",
    "    FlattenConsecutive(2),Linear(n_hidden * 2, n_hidden, bias=False), BatchNorm1d(n_hidden), Tanh(),\n",
    "    \n",
    "    FlattenConsecutive(2),Linear(n_hidden * 2, n_hidden, bias=False), BatchNorm1d(n_hidden), Tanh(),\n",
    "        \n",
    "    Linear(n_hidden, vocab_size)\n",
    ")\n",
    "\n",
    "n1 = int(0.8*len(words))\n",
    "n2 = int(0.9*len(words))\n",
    "\n",
    "Xtr,  Ytr  = build_dataset(words[:n1])     # 80%\n",
    "Xdev, Ydev = build_dataset(words[n1:n2])   # 10%\n",
    "Xte,  Yte  = build_dataset(words[n2:]) \n",
    "\n",
    "# some initialization\n",
    "with torch.no_grad():\n",
    "    # last layer: make less confident\n",
    "    # layers[-1].gama *= 0.1\n",
    "    # all other layers: apply gain\n",
    "    for layer in model.layers[:-1]:\n",
    "        if isinstance(layer, Linear):\n",
    "            layer.weight *= 0.1\n",
    "\n",
    "parameters = model.parameters()\n",
    "print(sum(p.nelement() for p in parameters)) # number of parameters in total\n",
    "for p in parameters:\n",
    "    p.requires_grad = True  \n",
    "\n",
    "            "
   ]
  },
  {
   "cell_type": "code",
   "execution_count": 19,
   "metadata": {},
   "outputs": [
    {
     "name": "stdout",
     "output_type": "stream",
     "text": [
      "tensor([[ 0,  0,  0,  0,  0,  0,  0, 26],\n",
      "        [ 0,  0,  0,  0,  0,  0,  0,  0],\n",
      "        [ 0,  0,  0,  0,  0,  0,  1, 12],\n",
      "        [ 0,  0,  3,  1, 18, 19, 20, 15],\n",
      "        [ 0,  0,  0,  0,  0,  8,  1, 14],\n",
      "        [ 0,  0,  0,  0,  0,  0,  0,  3],\n",
      "        [ 0,  0,  0, 12, 25,  3,  1, 14],\n",
      "        [ 0,  0,  0,  0,  0,  0,  0,  0],\n",
      "        [ 0,  0, 13,  1,  8,  9, 14,  1],\n",
      "        [ 0,  0,  0,  0, 10, 15, 18,  7],\n",
      "        [ 0,  0,  0,  0,  0,  0,  0, 11],\n",
      "        [ 0,  0,  0,  0,  0,  0,  1,  4],\n",
      "        [ 0,  0,  0,  0,  0,  0,  0,  8],\n",
      "        [ 0,  0,  0,  0,  0,  0, 19, 20],\n",
      "        [ 0,  0,  0,  0,  0,  0,  0,  2],\n",
      "        [ 0,  0,  0,  0,  0,  0,  0,  0],\n",
      "        [ 0,  0,  0,  0,  0, 19,  1, 13],\n",
      "        [ 0,  0,  0,  7, 18,  5, 20,  5],\n",
      "        [ 8,  1, 26, 12,  5,  9,  7,  8],\n",
      "        [ 0,  0,  0,  0,  0, 19,  5, 18],\n",
      "        [ 0,  0,  0,  0,  0,  0, 10,  1],\n",
      "        [ 0,  0,  0,  0,  1, 18, 13, 15],\n",
      "        [ 0,  0,  0,  4,  1, 23, 19, 15],\n",
      "        [ 0,  0,  0,  0,  0,  0,  1,  1],\n",
      "        [ 0,  0,  0,  0,  0,  0, 18, 15],\n",
      "        [ 0,  0,  1, 12,  1, 18,  9,  3],\n",
      "        [ 0,  2, 18,  9,  4,  7,  5, 20],\n",
      "        [ 4,  8,  1, 14, 22,  9, 11,  1],\n",
      "        [ 0,  0,  0, 23,  5, 19, 20, 25],\n",
      "        [ 0,  0,  0, 12,  9,  2,  2,  9],\n",
      "        [ 0,  0,  0,  5, 22,  5, 12, 25],\n",
      "        [ 0,  0,  0,  0,  0,  0,  0,  4]])\n",
      "-\n"
     ]
    }
   ],
   "source": [
    "batch_size = 32\n",
    "\n",
    "ix = torch.randint(0, Xtr.shape[0], (batch_size,)) # batch of 4 indices to take a look at the data with four examples\n",
    "Xb, Yb = Xtr[ix], Ytr[ix]\n",
    "\n",
    "# forward the model\n",
    "logits = model(Xb)\n",
    "print(Xb)\n",
    "print('-')\n"
   ]
  },
  {
   "cell_type": "code",
   "execution_count": 20,
   "metadata": {},
   "outputs": [
    {
     "name": "stdout",
     "output_type": "stream",
     "text": [
      "Embedding output shape:\t (32, 8, 10)\n",
      "FlattenConsecutive output shape:\t (32, 4, 20)\n",
      "Linear output shape:\t (32, 4, 68)\n",
      "BatchNorm1d output shape:\t (32, 4, 68)\n",
      "Tanh output shape:\t (32, 4, 68)\n",
      "FlattenConsecutive output shape:\t (32, 2, 136)\n",
      "Linear output shape:\t (32, 2, 68)\n",
      "BatchNorm1d output shape:\t (32, 2, 68)\n",
      "Tanh output shape:\t (32, 2, 68)\n",
      "FlattenConsecutive output shape:\t (32, 136)\n",
      "Linear output shape:\t (32, 68)\n",
      "BatchNorm1d output shape:\t (32, 68)\n",
      "Tanh output shape:\t (32, 68)\n",
      "Linear output shape:\t (32, 27)\n"
     ]
    }
   ],
   "source": [
    "\n",
    "for layer in model.layers:\n",
    "  print(layer.__class__.__name__, 'output shape:\\t', tuple(layer.out.shape))"
   ]
  },
  {
   "cell_type": "code",
   "execution_count": 33,
   "metadata": {},
   "outputs": [
    {
     "data": {
      "text/plain": [
       "torch.Size([1, 1, 68])"
      ]
     },
     "execution_count": 33,
     "metadata": {},
     "output_type": "execute_result"
    }
   ],
   "source": [
    "model.layers[3].running_mean.shape"
   ]
  },
  {
   "cell_type": "code",
   "execution_count": 22,
   "metadata": {},
   "outputs": [
    {
     "data": {
      "text/plain": [
       "tensor(True)"
      ]
     },
     "execution_count": 22,
     "metadata": {},
     "output_type": "execute_result"
    }
   ],
   "source": [
    "\n",
    "e = torch.randn(4,8,10)\n",
    "explicit = torch.cat([e[:, ::2, :], e[:, 1::2, :]], dim = 2)\n",
    "\n",
    "# use view to reshape the tensor\n",
    "(e.view(4,4,20) == explicit).all()"
   ]
  },
  {
   "cell_type": "code",
   "execution_count": 23,
   "metadata": {},
   "outputs": [
    {
     "name": "stdout",
     "output_type": "stream",
     "text": [
      "      0/  10000: 8.6855\n",
      "   1000/  10000: 2.2050\n",
      "   2000/  10000: 2.0350\n",
      "   3000/  10000: 2.4058\n",
      "   4000/  10000: 2.0801\n",
      "   5000/  10000: 2.1832\n",
      "   6000/  10000: 2.3616\n",
      "   7000/  10000: 2.3723\n",
      "   8000/  10000: 2.2494\n",
      "   9000/  10000: 2.3339\n"
     ]
    }
   ],
   "source": [
    "# same optimization as last time\n",
    "max_steps = 10000\n",
    "batch_size = 32\n",
    "lossi = []\n",
    "\n",
    "for i in range(max_steps):\n",
    "  \n",
    "  # minibatch construct\n",
    "  ix = torch.randint(0, Xtr.shape[0], (batch_size,))\n",
    "  Xb, Yb = Xtr[ix], Ytr[ix] # batch X,Y\n",
    "  \n",
    "  # forward pass\n",
    "  logits = model(Xb) # forward pass\n",
    "  loss = F.cross_entropy(logits, Yb) # compute the loss\n",
    "  \n",
    "  # backward pass\n",
    "  for p in parameters:\n",
    "    p.grad = None\n",
    "  loss.backward()\n",
    "  \n",
    "  # update simple SGD\n",
    "  lt = 0.1 if i < 150000 else 0.01 # learning rate \n",
    "  for p in parameters:\n",
    "    if p.grad is not None:\n",
    "      p.data -= lt * p.grad\n",
    "      \n",
    "  # track stats\n",
    "  if i % 1000 == 0:\n",
    "    print(f'{i:7d}/{max_steps:7d}: {loss.item():.4f}')\n",
    "  lossi.append(loss.log10().item())"
   ]
  },
  {
   "cell_type": "code",
   "execution_count": 24,
   "metadata": {},
   "outputs": [
    {
     "data": {
      "text/plain": [
       "[<matplotlib.lines.Line2D at 0x1178588f0>]"
      ]
     },
     "execution_count": 24,
     "metadata": {},
     "output_type": "execute_result"
    },
    {
     "data": {
      "image/png": "[encoded data removed]",
      "text/plain": [
       "<Figure size 640x480 with 1 Axes>"
      ]
     },
     "metadata": {},
     "output_type": "display_data"
    }
   ],
   "source": [
    "plt.plot(lossi)"
   ]
  },
  {
   "cell_type": "code",
   "execution_count": 25,
   "metadata": {},
   "outputs": [
    {
     "data": {
      "text/plain": [
       "[<matplotlib.lines.Line2D at 0x116db4950>]"
      ]
     },
     "execution_count": 25,
     "metadata": {},
     "output_type": "execute_result"
    },
    {
     "data": {
      "image/png": "[encoded data removed]",
      "text/plain": [
       "<Figure size 640x480 with 1 Axes>"
      ]
     },
     "metadata": {},
     "output_type": "display_data"
    }
   ],
   "source": [
    "plt.plot(torch.tensor(lossi).view(-1, 100).mean(1))"
   ]
  },
  {
   "cell_type": "code",
   "execution_count": 26,
   "metadata": {},
   "outputs": [],
   "source": [
    "# put layers in eval mode\n",
    "for layer in model.layers:\n",
    "  layer.training = False"
   ]
  },
  {
   "cell_type": "code",
   "execution_count": 27,
   "metadata": {},
   "outputs": [
    {
     "name": "stdout",
     "output_type": "stream",
     "text": [
      "2.1514201164245605\n"
     ]
    }
   ],
   "source": [
    "\n",
    "import torch\n",
    "# evaluate the loss \n",
    "@torch.no_grad()\n",
    "\n",
    "def split_loss(split):\n",
    "  x,y = {\n",
    "    'train': (Xtr, Ytr),\n",
    "    'dev': (Xdev, Ydev),\n",
    "    'test': (Xte, Yte)\n",
    "  }[split]\n",
    "  \n",
    "  logits = model(x)\n",
    "  \n",
    "  loss = F.cross_entropy(logits, y)\n",
    "  return loss\n",
    "  \n",
    "print(split_loss('train').item())"
   ]
  },
  {
   "cell_type": "code",
   "execution_count": 28,
   "metadata": {},
   "outputs": [
    {
     "name": "stdout",
     "output_type": "stream",
     "text": [
      "cremy.\n",
      "hereen.\n",
      "kausley.\n",
      "susiel.\n",
      "kritlyn.\n",
      "keis.\n",
      "soahie.\n",
      "evefara.\n",
      "mauvelea.\n",
      "jriah.\n",
      "eviace.\n",
      "neshaina.\n",
      "jaires.\n",
      "mowine.\n",
      "adeepa.\n",
      "ckyyer.\n",
      "jasar.\n",
      "milaana.\n",
      "gceslrr.\n",
      "rendexlen.\n"
     ]
    }
   ],
   "source": [
    "# sample from the model\n",
    "import torch.nn.functional as F\n",
    "\n",
    "for _ in range(20):\n",
    "  \n",
    "  out = []\n",
    "  context = [0] * block_size # start with a context of zeros with length of block_size\n",
    "  while True:\n",
    "    # forward pass the neural net\n",
    "    logits = model( torch.tensor([context]) )\n",
    "    probs = F.softmax(logits, dim=1)\n",
    "    # sample from the distribution\n",
    "    ix = torch.multinomial(probs, num_samples = 1, replacement=True).item()\n",
    "    # append to the output\n",
    "    out.append(ix)\n",
    "    # update the context\n",
    "    context = context[1:] + [ix] # shift the context and append the new characters\n",
    "    if ix == 0:\n",
    "      break\n",
    "  print(''.join(itos[i] for i in out))\n",
    "  \n"
   ]
  },
  {
   "cell_type": "code",
   "execution_count": 47,
   "metadata": {},
   "outputs": [
    {
     "name": "stdout",
     "output_type": "stream",
     "text": [
      "........ -> o\n",
      ".......o -> l\n",
      "......ol -> i\n",
      ".....oli -> v\n",
      "....oliv -> i\n",
      "...olivi -> a\n",
      "..olivia -> .\n"
     ]
    }
   ],
   "source": [
    "for x,y in zip(Xtr[5:12], Ytr[5:12]):\n",
    "  print(''.join(itos[c.item()] for c in x), '->', itos[y.item()])"
   ]
  }
 ],
 "metadata": {
  "kernelspec": {
   "display_name": ".venv",
   "language": "python",
   "name": "python3"
  },
  "language_info": {
   "codemirror_mode": {
    "name": "ipython",
    "version": 3
   },
   "file_extension": ".py",
   "mimetype": "text/x-python",
   "name": "python",
   "nbconvert_exporter": "python",
   "pygments_lexer": "ipython3",
   "version": "3.12.4"
  }
 },
 "nbformat": 4,
 "nbformat_minor": 2
}
