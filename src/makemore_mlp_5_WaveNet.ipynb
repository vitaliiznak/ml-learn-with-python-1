{
 "cells": [
  {
   "cell_type": "code",
   "execution_count": 30,
   "metadata": {},
   "outputs": [],
   "source": [
    "#read all words\n",
    "words = open('../data/names.txt', 'r').read().splitlines()\n",
    "words[:8]\n",
    "\n",
    "# build the vocabulary of characters and mappings to/from integers\n",
    "chars = sorted(list(set(''.join(words))))\n",
    "stoi = {s:i+1 for i,s in enumerate(chars)}\n",
    "stoi['.'] = 0\n",
    "itos = {i:s for s,i in stoi.items()}\n",
    "vocab_size = len(itos)\n",
    "\n",
    "\n",
    "\n",
    "\n"
   ]
  },
  {
   "cell_type": "code",
   "execution_count": 31,
   "metadata": {},
   "outputs": [
    {
     "name": "stdout",
     "output_type": "stream",
     "text": [
      "torch.Size([182778, 8]) torch.Size([182778])\n",
      "torch.Size([22633, 8]) torch.Size([22633])\n",
      "torch.Size([22735, 8]) torch.Size([22735])\n"
     ]
    }
   ],
   "source": [
    "import torch\n",
    "import torch.nn.functional as F\n",
    "import matplotlib.pyplot as plt # for making figures\n",
    "%matplotlib inline\n",
    "\n",
    "# build the dataset\n",
    "block_size = 8 # context length: how many characters do we take to predict the next one?\n",
    "\n",
    "def build_dataset(words):  \n",
    "  X, Y = [], []\n",
    "  \n",
    "  for w in words:\n",
    "    context = [0] * block_size\n",
    "    for ch in w + '.':\n",
    "      ix = stoi[ch]\n",
    "      X.append(context)\n",
    "      Y.append(ix)\n",
    "      context = context[1:] + [ix] # crop and append\n",
    "\n",
    "  X = torch.tensor(X)\n",
    "  Y = torch.tensor(Y)\n",
    "  print(X.shape, Y.shape)\n",
    "  return X, Y\n",
    "\n",
    "n1 = int(0.8*len(words))\n",
    "n2 = int(0.9*len(words))\n",
    "Xtr,  Ytr  = build_dataset(words[:n1])     # 80%\n",
    "Xdev, Ydev = build_dataset(words[n1:n2])   # 10%\n",
    "Xte,  Yte  = build_dataset(words[n2:])     # 10%"
   ]
  },
  {
   "cell_type": "markdown",
   "metadata": {},
   "source": []
  },
  {
   "cell_type": "code",
   "execution_count": 32,
   "metadata": {},
   "outputs": [],
   "source": [
    "import torch\n",
    "import torch.nn as nn\n",
    "from torch.nn import functional as F\n",
    "import matplotlib.pyplot as plt\n",
    "%matplotlib inline\n",
    "\n",
    "class Linear: \n",
    "\n",
    "    def __init__(self, fan_in: int, fan_out: int, bias:bool=True):\n",
    "        self.weight = torch.randn((fan_in, fan_out)) #/ fan_in**0.5\n",
    "        self.bias = torch.zeros(fan_out) if bias else None\n",
    "\n",
    "    def __call__(self, x):\n",
    "        self.out = x @ self.weight\n",
    "        if self.bias is not None:\n",
    "            self.out += self.bias\n",
    "        return self.out\n",
    "\n",
    "    def parameters(self):\n",
    "        return [self.weight] + ([] if self.bias is None else [self.bias])\n",
    "\n",
    "class BatchNorm1d:\n",
    "\n",
    "    def __init__(self, dim: int, eps:float=1e-5, momentum:float=0.1):\n",
    "        self.eps = eps\n",
    "        self.momentum = momentum\n",
    "        self.training = True\n",
    "        # parameters (trained with backprop)\n",
    "        self.gamma = torch.ones(dim)\n",
    "        self.beta = torch.zeros(dim)\n",
    "        # buffers (trained with a running 'momentum update')\n",
    "        self.running_mean = torch.zeros(dim)\n",
    "        self.running_var = torch.ones(dim)\n",
    "\n",
    "    def __call__(self, x):\n",
    "        # calculate the forward pass\n",
    "        if self.training:\n",
    "            xmean = x.mean(0, keepdim=True) # batch mean\n",
    "            xvar = x.var(0, keepdim=True) # batch variance\n",
    "        else:\n",
    "            xmean = self.running_mean\n",
    "            xvar = self.running_var\n",
    "        xhat = (x - xmean) / torch.sqrt(xvar + self.eps) # normalize to unit variance\n",
    "        self.out = self.gamma * xhat + self.beta\n",
    "        # update the buffers\n",
    "        if self.training:\n",
    "            with torch.no_grad():\n",
    "                self.running_mean = (1 - self.momentum) * self.running_mean + self.momentum * xmean\n",
    "                self.running_var = (1 - self.momentum) * self.running_var + self.momentum * xvar\n",
    "        return self.out\n",
    "\n",
    "    def parameters(self):\n",
    "        return [self.gamma, self.beta]\n",
    "\n",
    "\n",
    "class Tanh:\n",
    "    def __call__(self, x):\n",
    "        self.out = torch.tanh(x)\n",
    "        return self.out\n",
    "    def parameters(self):\n",
    "        return []\n"
   ]
  },
  {
   "cell_type": "markdown",
   "metadata": {},
   "source": []
  },
  {
   "cell_type": "code",
   "execution_count": 33,
   "metadata": {},
   "outputs": [
    {
     "name": "stdout",
     "output_type": "stream",
     "text": [
      "torch.Size([182778, 8]) torch.Size([182778])\n",
      "torch.Size([22633, 8]) torch.Size([22633])\n",
      "torch.Size([22735, 8]) torch.Size([22735])\n",
      "22097\n"
     ]
    }
   ],
   "source": [
    "\n",
    "n_embd = 10 # the dimensionality of the character embedding vectors\n",
    "n_hidden = 200 # the number of neurons in the hidden layer of the MLP\n",
    "\n",
    "\n",
    "g = torch.Generator().manual_seed(2147483647)# for reproducibility\n",
    "C = torch.randn((vocab_size, n_embd), generator=g)\n",
    "layers = [\n",
    "    Linear(n_embd * block_size, n_hidden, bias=False), BatchNorm1d(n_hidden), Tanh(),\n",
    "    Linear(n_hidden, vocab_size)\n",
    "]\n",
    "\n",
    "n1 = int(0.8*len(words))\n",
    "n2 = int(0.9*len(words))\n",
    "\n",
    "Xtr,  Ytr  = build_dataset(words[:n1])     # 80%\n",
    "Xdev, Ydev = build_dataset(words[n1:n2])   # 10%\n",
    "Xte,  Yte  = build_dataset(words[n2:]) \n",
    "\n",
    "# some initialization\n",
    "with torch.no_grad():\n",
    "    # last layer: make less confident\n",
    "    # layers[-1].gama *= 0.1\n",
    "    # all other layers: apply gain\n",
    "    for layer in layers[:-1]:\n",
    "        if isinstance(layer, Linear):\n",
    "            layer.weight *= 0.1\n",
    "\n",
    "parameters = [C] + [p for layer in layers for p in layer.parameters()]\n",
    "print(sum(p.nelement() for p in parameters)) # number of parameters in total\n",
    "for p in parameters:\n",
    "    p.requires_grad = True  \n",
    "\n",
    "            "
   ]
  },
  {
   "cell_type": "code",
   "execution_count": 34,
   "metadata": {},
   "outputs": [],
   "source": [
    "#Visualize Histograms of the Activations\n",
    "# plt.figure(figsize=(20, 4)) # width and height of the plot\n",
    "# legends = []\n",
    "# for i, layer in enumerate(layers[:-1]): # note: exclude the output layer\n",
    "#     if isinstance(layer, Tanh):\n",
    "#         t = layer.out\n",
    "#         print('layer %d (%10s): mean %+.2f, std %.2f, saturated: %.2f%%' % (i, layer.__class__.__name__, t.mean(), t.std(), (t.abs() > 0.97).float().mean()*100))\n",
    "#         hy, hx = torch.histogram(t, density=True)\n",
    "#         plt.plot(hx[:-1].detach(), hy.detach())\n",
    "#         legends.append(f'layer {i} ({layer.__class__.__name__}')\n",
    "# plt.legend(legends);\n",
    "# plt.title('activation distribution')\n"
   ]
  },
  {
   "cell_type": "code",
   "execution_count": 35,
   "metadata": {},
   "outputs": [],
   "source": [
    "#visualize gradients\n",
    "# plt.figure(figsize=(20, 4)) # width and height of the plot\n",
    "# legends = []\n",
    "# for i, layer in enumerate(layers[:-1]): # note: exclude the output layer\n",
    "#     if isinstance(layer, Tanh):\n",
    "#         t = layer.out.grad\n",
    "#         print('layer %d (%10s): mean %+f, std %e' % (i, layer.__class__.__name__, t.mean(), t.std()))\n",
    "#         hy, hx = torch.histogram(t, density=True)\n",
    "#         plt.plot(hx[:-1].detach(), hy.detach())\n",
    "#         legends.append(f'layer {i} ({layer.__class__.__name__}')\n",
    "# plt.legend(legends)\n",
    "# plt.title('gradient distribution')"
   ]
  },
  {
   "cell_type": "code",
   "execution_count": 36,
   "metadata": {},
   "outputs": [],
   "source": [
    "# visualize weights \n",
    "# plt.figure(figsize=(20, 4))\n",
    "# legends = []\n",
    "# for i, p in enumerate(parameters):\n",
    "#     t = p.grad\n",
    "#     if p.ndim == 2:\n",
    "#         print('weight %10s | mean %+f | std %e | grad: weights %e, grad %e | grad: data ratio %e' % (tuple(p.shape), t.mean(), t.std(), p.data.std(), t.std(), t.std() / p.data.std()))\n",
    "#         hy, hx = torch.histogram(t, density=True)\n",
    "#         plt.plot(hx[:-1].detach(), hy.detach())\n",
    "#         legends.append(f'{i} {tuple(p.shape)}')\n",
    "# plt.legend(legends)\n",
    "# plt.title('weights gradient distribution');\n",
    "\n"
   ]
  },
  {
   "cell_type": "code",
   "execution_count": 37,
   "metadata": {},
   "outputs": [],
   "source": [
    "# visualize weight updates \n",
    "# plt.figure(figsize=(20, 4))\n",
    "# legends = []\n",
    "# for i, p in enumerate(parameters):\n",
    "#     if p.ndim == 2:\n",
    "#         plt.plot([ud[j][i] for j in range(len(ud))])\n",
    "#         legends.append('param %d' % i)\n",
    "# plt.plot([0, len(ud)], [-3, -3], 'k') # these ratios should be ~1e-3, otherwise things are exploding\n",
    "# plt.legend(legends);"
   ]
  },
  {
   "cell_type": "code",
   "execution_count": 38,
   "metadata": {},
   "outputs": [
    {
     "name": "stdout",
     "output_type": "stream",
     "text": [
      "      0/  20000: 19.0037\n",
      "   1000/  20000: 2.6760\n",
      "   2000/  20000: 2.5388\n",
      "   3000/  20000: 2.2141\n",
      "   4000/  20000: 2.2855\n",
      "   5000/  20000: 2.3553\n",
      "   6000/  20000: 2.9655\n",
      "   7000/  20000: 2.9187\n",
      "   8000/  20000: 2.0194\n",
      "   9000/  20000: 2.5326\n",
      "  10000/  20000: 3.2756\n",
      "  11000/  20000: 2.5719\n",
      "  12000/  20000: 1.9744\n",
      "  13000/  20000: 1.9162\n",
      "  14000/  20000: 2.1079\n",
      "  15000/  20000: 2.4673\n",
      "  16000/  20000: 2.3984\n",
      "  17000/  20000: 2.0222\n",
      "  18000/  20000: 2.5309\n",
      "  19000/  20000: 2.1968\n"
     ]
    }
   ],
   "source": [
    "# same optimization as last time\n",
    "max_steps = 10000\n",
    "batch_size = 32\n",
    "lossi = []\n",
    "\n",
    "for i in range(max_steps):\n",
    "  \n",
    "  # minibatch construct\n",
    "  ix = torch.randint(0, Xtr.shape[0], (batch_size,))\n",
    "  Xb, Yb = Xtr[ix], Ytr[ix] # batch X,Y\n",
    "  \n",
    "  # forward pass\n",
    "  embd = C[Xb]\n",
    "  x = embd.view(embd.shape[0], -1)\n",
    "  for layer in layers:\n",
    "    x = layer(x)\n",
    "  loss = F.cross_entropy(x, Yb) # compute the loss\n",
    "  \n",
    "  # backward pass\n",
    "  for p in parameters:\n",
    "    p.grad = None\n",
    "  loss.backward()\n",
    "  \n",
    "  # update simple SGD\n",
    "  lt = 0.1 if i < 150000 else 0.01 # learning rate \n",
    "  for p in parameters:\n",
    "    if p.grad is not None:\n",
    "      p.data -= lt * p.grad\n",
    "      \n",
    "  # track stats\n",
    "  if i % 1000 == 0:\n",
    "    print(f'{i:7d}/{max_steps:7d}: {loss.item():.4f}')\n",
    "  lossi.append(loss.log10().item())"
   ]
  },
  {
   "cell_type": "code",
   "execution_count": 39,
   "metadata": {},
   "outputs": [
    {
     "data": {
      "text/plain": [
       "[<matplotlib.lines.Line2D at 0x1447fbad0>]"
      ]
     },
     "execution_count": 39,
     "metadata": {},
     "output_type": "execute_result"
    },
    {
     "data": {
      "image/png": "[encoded data removed]",
      "text/plain": [
       "<Figure size 640x480 with 1 Axes>"
      ]
     },
     "metadata": {},
     "output_type": "display_data"
    }
   ],
   "source": [
    "plt.plot(lossi)"
   ]
  },
  {
   "cell_type": "code",
   "execution_count": 46,
   "metadata": {},
   "outputs": [
    {
     "data": {
      "text/plain": [
       "[<matplotlib.lines.Line2D at 0x145b72db0>]"
      ]
     },
     "execution_count": 46,
     "metadata": {},
     "output_type": "execute_result"
    },
    {
     "data": {
      "image/png": "[encoded data removed]",
      "text/plain": [
       "<Figure size 640x480 with 1 Axes>"
      ]
     },
     "metadata": {},
     "output_type": "display_data"
    }
   ],
   "source": [
    "plt.plot(torch.tensor(lossi).view(-1, 100).mean(1))"
   ]
  },
  {
   "cell_type": "code",
   "execution_count": 40,
   "metadata": {},
   "outputs": [],
   "source": [
    "# put layers in eval mode\n",
    "for layer in layers:\n",
    "  layer.training = False"
   ]
  },
  {
   "cell_type": "code",
   "execution_count": 41,
   "metadata": {},
   "outputs": [
    {
     "name": "stdout",
     "output_type": "stream",
     "text": [
      "2.2693474292755127\n"
     ]
    }
   ],
   "source": [
    "\n",
    "import torch\n",
    "# evaluate the loss \n",
    "@torch.no_grad()\n",
    "\n",
    "def split_loss(split):\n",
    "  x,y = {\n",
    "    'train': (Xtr, Ytr),\n",
    "    'dev': (Xdev, Ydev),\n",
    "    'test': (Xte, Yte)\n",
    "  }[split]\n",
    "  \n",
    "  emb = C[x] # (N, block_size, n_embd)\n",
    "  x = emb.view(emb.shape[0], -1) # (N, block_size * n_embd)\n",
    "  for layer in layers:\n",
    "    x = layer(x) # passing through the layers, layer by layer\n",
    "  \n",
    "  logits = x\n",
    "  \n",
    "  loss = F.cross_entropy(logits, y)\n",
    "  return loss\n",
    "  \n",
    "print(split_loss('train').item())"
   ]
  },
  {
   "cell_type": "code",
   "execution_count": 45,
   "metadata": {},
   "outputs": [
    {
     "name": "stdout",
     "output_type": "stream",
     "text": [
      "jakhmer.\n",
      "caan.\n",
      "balysyne.\n",
      "ashaw.\n",
      "jayren.\n",
      "raaryen.\n",
      "alalynn.\n",
      "asais.\n",
      "shaorana.\n",
      "elajey.\n",
      "camarosa.\n",
      "anejasia.\n",
      "kianre.\n",
      "kelber.\n",
      "aleaoni.\n",
      "amarie.\n",
      "emsoston.\n",
      "fjaa.\n",
      "ashann.\n",
      "jaselyn.\n"
     ]
    }
   ],
   "source": [
    "# sample from the model\n",
    "import torch.nn.functional as F\n",
    "\n",
    "for _ in range(20):\n",
    "  \n",
    "  out = []\n",
    "  context = [0] * block_size # start with a context of zeros with length of block_size\n",
    "  while True:\n",
    "    # forward pass the neural net\n",
    "    emb = C[torch.tensor([context])]\n",
    "    x = emb.view(emb.shape[0], -1) # concatenate the embeddings to a single vector\n",
    "    for layer in layers:\n",
    "      x = layer(x)\n",
    "    logits = x\n",
    "    probs = F.softmax(logits, dim=1)\n",
    "    # sample from the distribution\n",
    "    ix = torch.multinomial(probs, num_samples = 1, replacement=True).item()\n",
    "    # append to the output\n",
    "    out.append(ix)\n",
    "    # update the context\n",
    "    context = context[1:] + [ix] # shift the context and append the new characters\n",
    "    if ix == 0:\n",
    "      break\n",
    "  print(''.join(itos[i] for i in out))\n",
    "    \n",
    "    \n",
    "\n",
    "  "
   ]
  }
 ],
 "metadata": {
  "kernelspec": {
   "display_name": ".venv",
   "language": "python",
   "name": "python3"
  },
  "language_info": {
   "codemirror_mode": {
    "name": "ipython",
    "version": 3
   },
   "file_extension": ".py",
   "mimetype": "text/x-python",
   "name": "python",
   "nbconvert_exporter": "python",
   "pygments_lexer": "ipython3",
   "version": "3.12.4"
  }
 },
 "nbformat": 4,
 "nbformat_minor": 2
}
