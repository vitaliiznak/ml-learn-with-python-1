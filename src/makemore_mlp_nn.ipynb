{
 "cells": [
  {
   "cell_type": "code",
   "execution_count": 206,
   "metadata": {},
   "outputs": [],
   "source": [
    "import torch\n",
    "import torch.nn.functional as F\n",
    "import matplotlib.pyplot as plt\n",
    "%matplotlib inline\n",
    "\n",
    "words = open('../names.txt', 'r').read().splitlines()\n",
    "chars = sorted(list(set(''.join(words))))\n",
    "chars = sorted(list(set(''.join(words))))\n",
    "stoi = {ch: i+1  for i, ch in enumerate(chars)}\n",
    "stoi['.'] = 0\n",
    "itos = {i: ch for ch, i, in stoi.items()}\n"
   ]
  },
  {
   "cell_type": "code",
   "execution_count": 207,
   "metadata": {},
   "outputs": [
    {
     "data": {
      "text/plain": [
       "(torch.Size([228146, 3]), torch.Size([228146]))"
      ]
     },
     "execution_count": 207,
     "metadata": {},
     "output_type": "execute_result"
    }
   ],
   "source": [
    "# build the dataset\n",
    "\n",
    "block_size = 3 # context length; how many characters to look at to predict the next one\n",
    "X, Y = [], []\n",
    "\n",
    "for w in words:\n",
    "    start = stoi['.']\n",
    "    context = [start] * block_size\n",
    "    for ch in w + '.':\n",
    "        xi = stoi[ch]\n",
    "        X.append(context)\n",
    "        Y.append(xi)\n",
    "        # print(''.join(itos[i] for i in context), '--->', itos[xi])\n",
    "        context = context[1:] + [stoi[ch]]\n",
    "       \n",
    "    \n",
    "X = torch.tensor(X)\n",
    "Y = torch.tensor(Y)\n",
    "X.shape, Y.shape"
   ]
  },
  {
   "cell_type": "code",
   "execution_count": 208,
   "metadata": {},
   "outputs": [],
   "source": [
    "C = torch.rand(27, 2)"
   ]
  },
  {
   "cell_type": "code",
   "execution_count": 209,
   "metadata": {},
   "outputs": [
    {
     "data": {
      "text/plain": [
       "tensor([0.9430, 0.6822])"
      ]
     },
     "execution_count": 209,
     "metadata": {},
     "output_type": "execute_result"
    }
   ],
   "source": [
    "out_first = F.one_hot(torch.tensor(5), num_classes=27).float() @ C\n",
    "out_first"
   ]
  },
  {
   "cell_type": "code",
   "execution_count": 210,
   "metadata": {},
   "outputs": [],
   "source": [
    "emb = C[X] # shape: (batch_size, block_size, emb_dim) basically 32 samples, each with 3 characters, each character has 2 dimensions"
   ]
  },
  {
   "cell_type": "code",
   "execution_count": 211,
   "metadata": {},
   "outputs": [],
   "source": [
    "w1 = torch.rand(6, 100)"
   ]
  },
  {
   "cell_type": "code",
   "execution_count": 212,
   "metadata": {},
   "outputs": [],
   "source": [
    "# take 32 embedings of the first character, second character, third character and flat those characters array into a single tensor\n",
    "concatenatedCharacters = torch.cat([emb[:, 0, :], emb[:, 1, :], emb[:, 2, :]], 1) \n",
    "# alternatively, we could use \n",
    "concatenatedCharacters = torch.cat(torch.unbind(emb, 1), 1) \n",
    "# alternatively, we could use view\n",
    "concatenatedCharacters = emb.view(-1, 6)"
   ]
  },
  {
   "cell_type": "code",
   "execution_count": 213,
   "metadata": {},
   "outputs": [],
   "source": [
    "W1 = torch.rand(6, 100)\n",
    "b1 = torch.rand(100)\n",
    "h = torch.tanh( emb.view(-1, 6) @ W1 + b1) # -1 means \"infer this dimension\" so the number of elelments=32x3*2 maintains the same "
   ]
  },
  {
   "cell_type": "code",
   "execution_count": 214,
   "metadata": {},
   "outputs": [],
   "source": [
    "W2 = torch.rand(100, 27)\n",
    "b2 = torch.rand(27)\n",
    "\n",
    "logits = h @ W2 + b2\n",
    "counts = logits.exp()\n",
    "probs = counts / counts.sum(-1, keepdim=True)\n"
   ]
  },
  {
   "cell_type": "code",
   "execution_count": null,
   "metadata": {},
   "outputs": [],
   "source": []
  },
  {
   "cell_type": "code",
   "execution_count": null,
   "metadata": {},
   "outputs": [],
   "source": []
  },
  {
   "cell_type": "code",
   "execution_count": 215,
   "metadata": {},
   "outputs": [
    {
     "name": "stdout",
     "output_type": "stream",
     "text": [
      "2.4790148735046387\n"
     ]
    }
   ],
   "source": [
    "parameters = [C, W1, b1, W2, b2]\n",
    "\n",
    "lri = []\n",
    "lossi = []\n",
    "\n",
    "for p in parameters:\n",
    "  p.requires_grad_()\n",
    "\n",
    "steps = 50000\n",
    "lre = torch.linspace(-3, 0, steps)\n",
    "lrs = 10**lre\n",
    "\n",
    "for i in range(steps):\n",
    "  # minibatch construct\n",
    "  ix = torch.randint(0, X.shape[0], (32,))\n",
    "  # forward pass\n",
    "  emb = C[X[ix]] # shape: (batch_size, block_size, emb_dim) basically 32 samples, each with 3 characters, each character has 2 dimensions\n",
    "  h = torch.tanh(emb.view(-1, 6) @ W1 + b1)\n",
    "  logits = h @ W2 + b2\n",
    "  loss = F.cross_entropy(logits, Y[ix])\n",
    "  # print(loss.item())\n",
    "\n",
    "  #backward pass\n",
    "  for p in parameters:\n",
    "      p.grad = None\n",
    "  loss.backward()\n",
    "  # update the weights\n",
    "  # lr = lrs[i]\n",
    "  lr = 0.05\n",
    "  for p in parameters:\n",
    "      p.data.sub_(lr * p.grad.data)\n",
    "      \n",
    "  # track the loss\n",
    "  # lri.append(lre[i])\n",
    "  # lossi.append(loss.item())\n",
    "  \n",
    "  \n",
    "# plt.plot(lri, lossi)\n",
    "print(loss.item())"
   ]
  },
  {
   "cell_type": "code",
   "execution_count": 216,
   "metadata": {},
   "outputs": [],
   "source": [
    "# training split, validation split, test split\n",
    "# 80% training, 10% validation, 10% test\n",
    "\n"
   ]
  },
  {
   "cell_type": "code",
   "execution_count": 217,
   "metadata": {},
   "outputs": [
    {
     "data": {
      "image/png": "[encoded data removed]",
      "text/plain": [
       "<Figure size 800x800 with 1 Axes>"
      ]
     },
     "metadata": {},
     "output_type": "display_data"
    }
   ],
   "source": [
    "# visualize dimensions 0 and 1 of the embedding matrix C for all characters\n",
    "plt.figure(figsize=(8,8))\n",
    "plt.scatter(C[:,0].data, C[:,1].data, s=200)\n",
    "for i in range(C.shape[0]):\n",
    "    plt.text(C[i,0].item(), C[i,1].item(), itos[i], ha=\"center\", va=\"center\", color='white')\n",
    "plt.grid('minor')"
   ]
  },
  {
   "cell_type": "code",
   "execution_count": 218,
   "metadata": {},
   "outputs": [
    {
     "name": "stdout",
     "output_type": "stream",
     "text": [
      "careah.\n",
      "ami.\n",
      "hevi.\n",
      "kemri.\n",
      "reaty.\n",
      "salan.\n",
      "kenrahnen.\n",
      "den.\n",
      "art.\n",
      "kaqei.\n",
      "neamara.\n",
      "chaiiv.\n",
      "kaleig.\n",
      "dham.\n",
      "join.\n",
      "qei.\n",
      "tasroilea.\n",
      "jadia.\n",
      "wazeloniearyni.\n",
      "jacenni.\n"
     ]
    }
   ],
   "source": [
    "# sample from the model\n",
    "g = torch.Generator().manual_seed(2147483647 + 10)\n",
    "\n",
    "for _ in range(20):\n",
    "    \n",
    "    out = []\n",
    "    context = [0] * block_size # initialize with all ...\n",
    "    while True:\n",
    "      emb = C[torch.tensor([context])] # (1,block_size,d)\n",
    "      h = torch.tanh(emb.view(1, -1) @ W1 + b1)\n",
    "      logits = h @ W2 + b2\n",
    "      probs = F.softmax(logits, dim=1)\n",
    "      ix = torch.multinomial(probs, num_samples=1, generator=g).item()\n",
    "      context = context[1:] + [ix]\n",
    "      out.append(ix)\n",
    "      if ix == 0:\n",
    "        break\n",
    "    \n",
    "    print(''.join(itos[i] for i in out))"
   ]
  }
 ],
 "metadata": {
  "kernelspec": {
   "display_name": ".venv",
   "language": "python",
   "name": "python3"
  },
  "language_info": {
   "codemirror_mode": {
    "name": "ipython",
    "version": 3
   },
   "file_extension": ".py",
   "mimetype": "text/x-python",
   "name": "python",
   "nbconvert_exporter": "python",
   "pygments_lexer": "ipython3",
   "version": "3.12.4"
  }
 },
 "nbformat": 4,
 "nbformat_minor": 2
}
