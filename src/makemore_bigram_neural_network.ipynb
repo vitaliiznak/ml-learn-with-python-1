{
 "cells": [
  {
   "cell_type": "code",
   "execution_count": 420,
   "metadata": {},
   "outputs": [],
   "source": [
    "words = open('../names.txt', 'r').read().splitlines()"
   ]
  },
  {
   "cell_type": "code",
   "execution_count": 421,
   "metadata": {},
   "outputs": [],
   "source": [
    "b = {}\n",
    "for w in words:\n",
    "  chs = ['<S>'] + list(w) + ['</E>']\n",
    "  for ch1, ch2 in zip(chs, chs[1:]):\n",
    "    bigram = (ch1, ch2)\n",
    "    b[bigram] = b.get(bigram, 0) + 1"
   ]
  },
  {
   "cell_type": "code",
   "execution_count": 422,
   "metadata": {},
   "outputs": [
    {
     "data": {
      "text/plain": [
       "(tensor([ 0,  5, 13, 13,  1]), tensor([ 5, 13, 13,  1,  0]))"
      ]
     },
     "execution_count": 422,
     "metadata": {},
     "output_type": "execute_result"
    }
   ],
   "source": [
    "# create the training set of bigrams and targets (x, y)\n",
    "\n",
    "xs, ys = [], []\n",
    "\n",
    "for w in words[:1]:\n",
    "  chs = ['.'] + list(w) + ['.']\n",
    "  for ch1, ch2 in zip(chs, chs[1:]):\n",
    "    xs.append(stoi[ch1])\n",
    "    ys.append(stoi[ch2])\n",
    "    #print(f'{ch1}, {ch2}')\n",
    "    \n",
    "xsT = torch.tensor(xs)\n",
    "ysT = torch.tensor(ys)\n",
    "\n",
    "xsT, ysT\n"
   ]
  },
  {
   "cell_type": "code",
   "execution_count": 429,
   "metadata": {},
   "outputs": [],
   "source": [
    "# forward pass\n",
    "g = torch.Generator().manual_seed(2147483647)\n",
    "xenc = F.one_hot(xsT, num_classes=27).float()\n",
    "\n",
    "# Initialize weights\n",
    "W = torch.randn(27, 27, requires_grad=True)\n",
    "logits = xenc @ W # log-counts\n",
    "counts = logits.exp()  # Equivalent to N frequency matrix\n",
    "probs = counts / counts.sum(dim=1, keepdim=True)\n",
    "# plt.imshow(xenc, cmap='Blues')"
   ]
  },
  {
   "cell_type": "code",
   "execution_count": 430,
   "metadata": {},
   "outputs": [],
   "source": [
    "# compute the loss\n",
    "loss = -probs[torch.arange(len(ysT)), ysT].log().sum()"
   ]
  },
  {
   "cell_type": "code",
   "execution_count": 431,
   "metadata": {},
   "outputs": [
    {
     "name": "stdout",
     "output_type": "stream",
     "text": [
      "loss.item()=21.085445404052734\n"
     ]
    }
   ],
   "source": [
    "print(f'{loss.item()=}')"
   ]
  },
  {
   "cell_type": "code",
   "execution_count": 426,
   "metadata": {},
   "outputs": [],
   "source": [
    "# Backward pass\n",
    "W.grad = None # zero the gradients\n",
    "loss.backward()"
   ]
  },
  {
   "cell_type": "code",
   "execution_count": 427,
   "metadata": {},
   "outputs": [],
   "source": [
    "# update the weights\n",
    "learning_rate = 0.1\n",
    "with torch.no_grad():\n",
    "   W -= learning_rate * W.grad"
   ]
  },
  {
   "cell_type": "code",
   "execution_count": 428,
   "metadata": {},
   "outputs": [
    {
     "name": "stdout",
     "output_type": "stream",
     "text": [
      "loss=tensor(16.9809, grad_fn=<NegBackward0>)\n"
     ]
    }
   ],
   "source": [
    "print(f'{loss=}')"
   ]
  }
 ],
 "metadata": {
  "kernelspec": {
   "display_name": ".venv",
   "language": "python",
   "name": "python3"
  },
  "language_info": {
   "codemirror_mode": {
    "name": "ipython",
    "version": 3
   },
   "file_extension": ".py",
   "mimetype": "text/x-python",
   "name": "python",
   "nbconvert_exporter": "python",
   "pygments_lexer": "ipython3",
   "version": "3.12.4"
  }
 },
 "nbformat": 4,
 "nbformat_minor": 2
}
